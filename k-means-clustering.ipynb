{
 "cells": [
  {
   "cell_type": "markdown",
   "metadata": {},
   "source": [
    "# NumPy"
   ]
  },
  {
   "cell_type": "markdown",
   "metadata": {
    "collapsed": true
   },
   "source": [
    "The NumPy library provides support for arrays, matricies and mathematical functions to operate on them. We'll start with the basics and then cover a few more advanced topics."
   ]
  },
  {
   "cell_type": "markdown",
   "metadata": {},
   "source": [
    "## The N-dimensional array (ndarray) and array basics"
   ]
  },
  {
   "cell_type": "markdown",
   "metadata": {},
   "source": [
    "The core of NumPy is the n-dimensional array (ndarray). Although it may seem similar to Python lists or the array.array class, there are some important differences. ndarrays ...\n",
    "\n",
    "+ are homogenous, all elements must be of the same type (unlike list)\n",
    "+ can be multidimensional (unlike array.array)\n",
    "+ have much more functionality\n",
    "\n",
    "We'll dive in with an example. The arange function is analogous to Python's range function, while reshape does exactly what you would expect and reshapes an array into a specified shape.\n",
    "\n",
    "+ ndarray.ndim: number of dimensions or rank\n",
    "+ ndarray.shape: tuple containing the dimensions of the array\n",
    "+ ndarray.dtype: data type of elements\n",
    "+ ndarray.size: total number of elements (product of dimensions)\n",
    "\n",
    "### Library Dependancies\n",
    "Need numpy, operator, matplotlib, collections. The operator and collections modules come pre-installed in the Python Standard Library. Install the rest using pip: ```pip install numpy```, ```pip install matplotlib```."
   ]
  },
  {
   "cell_type": "code",
   "execution_count": 31,
   "metadata": {},
   "outputs": [
    {
     "data": {
      "image/png": "[encoded data removed]",
      "text/plain": [
       "<Figure size 432x288 with 1 Axes>"
      ]
     },
     "metadata": {
      "needs_background": "light"
     },
     "output_type": "display_data"
    }
   ],
   "source": [
    "import numpy as np\n",
    "import pandas as pd\n",
    "from csv import reader\n",
    "import matplotlib.pyplot as plt\n",
    "import math\n",
    "\n",
    "from cgi import test\n",
    "from cmath import sqrt\n",
    "\n",
    "df = pd.read_csv (r'/Users/jakobtolstrup/Desktop/Areas/SD/Data Mining/Exercises 5/k-means-clustering/geyserData.csv', delimiter=',')\n",
    "df['class'] = 0\n",
    "df = df.reset_index(drop=True) # Remove the index from the file\n",
    "df['eruptions'] = df['eruptions'] / max(df['eruptions']) # Normalize eruptions\n",
    "df['waiting'] = df['waiting'] / max(df['waiting']) # Normalize waiting\n",
    "\n",
    "plt.title('Scatter plot of the Distribution of data')   #\n",
    "plt.scatter(df['eruptions'],df['waiting'])              # Visualizing the distribution\n",
    "plt.show()\n"
   ]
  },
  {
   "cell_type": "code",
   "execution_count": 32,
   "metadata": {},
   "outputs": [
    {
     "data": {
      "text/plain": [
       "(eruptions    0.676471\n",
       " waiting      0.812500\n",
       " class        0.000000\n",
       " Name: 22, dtype: float64,\n",
       " eruptions    0.39549\n",
       " waiting      0.62500\n",
       " class        0.00000\n",
       " Name: 76, dtype: float64)"
      ]
     },
     "execution_count": 32,
     "metadata": {},
     "output_type": "execute_result"
    }
   ],
   "source": [
    "def initializeMeans(df):\n",
    "\n",
    "#Intialize the means by randomly taking two points from the dataframe.\n",
    "\n",
    "    x = df.sample(2) # We pick two random points\n",
    "    m1 = x.iloc[0] \n",
    "    m2 = x.iloc[1] \n",
    "\n",
    "    return m1, m2\n",
    "\n",
    "initializeMeans(df)\n",
    "\n"
   ]
  },
  {
   "cell_type": "code",
   "execution_count": 33,
   "metadata": {},
   "outputs": [],
   "source": [
    "\n",
    "def euclideanDist(df,pointIDX,mean1,mean2):\n",
    "\n",
    "    #Take the index of the point in the dataframe you want to calculate the \n",
    "    #distance from and calculate the euclidean distance to both means.\n",
    "    # return a pandas dataframe (or pandas series) with the closest mean assigned to column 'class' given the pointIDX\n",
    "\n",
    "    # We separate the values from our inputs into separate points\n",
    "    point = df.iloc[[pointIDX]].squeeze()\n",
    "    pp1, pp2, pc = point\n",
    "    mp1, mp2, c1 = mean1\n",
    "    mq1, mq2, c2 = mean2\n",
    "    \n",
    "    # We calculate the distance between the points and the\n",
    "    dist1 = sqrt((mp1-pp1)**2 + (mp2+pp2)**2).real\n",
    "    dist2 = sqrt((mq1-pp1)**2 + (mq2+pp2)**2).real\n",
    "\n",
    "    #  is closest to point\n",
    "    if(dist1 < dist2):\n",
    "        df.iat[pointIDX, 2] = 1\n",
    "    else:\n",
    "        df.iat[pointIDX, 2] = 2\n",
    "    return df # here we return the same dataframe\n",
    "\n",
    "\n",
    "m1, m2 = initializeMeans(df)\n",
    "b = euclideanDist(df, 5, m1,m2)\n",
    "\n"
   ]
  },
  {
   "cell_type": "code",
   "execution_count": 34,
   "metadata": {},
   "outputs": [],
   "source": [
    "def updateMean(df):\n",
    "    \"\"\"\n",
    "    df is the dataframe of points containing the assigned classes\n",
    "    return updated mean1 and mean2 based on the value in column 'class'. mean1 and mean2 should still be pandas dataframes (or pandas series)\n",
    "    \"\"\"\n",
    "    m1 = df.loc[df['class']==0].mean()\n",
    "    m2 = df.loc[df['class']==1].mean()\n",
    "\n",
    "    return m1, m2\n"
   ]
  },
  {
   "cell_type": "code",
   "execution_count": 35,
   "metadata": {},
   "outputs": [
    {
     "name": "stdout",
     "output_type": "stream",
     "text": [
      "Iteration 0/0\n",
      "Iteration 1/1\n",
      "Iteration 2/2\n",
      "Iteration 3/3\n",
      "Iteration 4/4\n"
     ]
    },
    {
     "data": {
      "image/png": "[encoded data removed]",
      "text/plain": [
       "<Figure size 432x288 with 1 Axes>"
      ]
     },
     "metadata": {
      "needs_background": "light"
     },
     "output_type": "display_data"
    }
   ],
   "source": [
    "def Kmeans(df,iterations):\n",
    "    mean1,mean2 = initializeMeans(df)\n",
    "\n",
    "    for iteration in range(iterations): # Change this when implementing how many times it should recalculate the mean\n",
    "\n",
    "        print(\"Iteration {}/{}\".format(iteration,iteration))\n",
    "        \n",
    "        for i in range(len(df)):\n",
    "            df = euclideanDist(df,i,mean1,mean2)\n",
    "            \n",
    "        mean1,mean2 = updateMean(df)\n",
    "\n",
    "    return df,mean1,mean2\n",
    "\n",
    "df,mean1,mean2 = Kmeans(df,5)\n",
    "\n",
    "plt.clf()\n",
    "plt.scatter(df.loc[df['class'] == 1]['eruptions'],df.loc[df['class'] == 1]['waiting'],color='g',label='1')  #\n",
    "plt.scatter(df.loc[df['class'] == 2]['eruptions'],df.loc[df['class'] == 2]['waiting'],color='b',label='2')  #\n",
    "                                                                                                            #\n",
    "plt.scatter(mean1['eruptions'],mean1['waiting'],s=70,label='mean1',marker='s',color='r')                    # Visualizing the final class distribution\n",
    "plt.scatter(mean2['eruptions'],mean2['waiting'],s=70,label='mean2',marker='s',color='y')                    #\n",
    "                                                                                                            #\n",
    "plt.legend()                                                                                                #\n",
    "plt.show()\n"
   ]
  }
 ],
 "metadata": {
  "kernelspec": {
   "display_name": "Python 3.9.12 ('base')",
   "language": "python",
   "name": "python3"
  },
  "language_info": {
   "codemirror_mode": {
    "name": "ipython",
    "version": 3
   },
   "file_extension": ".py",
   "mimetype": "text/x-python",
   "name": "python",
   "nbconvert_exporter": "python",
   "pygments_lexer": "ipython3",
   "version": "3.9.12"
  },
  "vscode": {
   "interpreter": {
    "hash": "7048a5d75593413cc54dc24206831079ac8905ffddb319c4eafd454be0ec5d5b"
   }
  }
 },
 "nbformat": 4,
 "nbformat_minor": 2
}
