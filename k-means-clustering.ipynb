{
 "cells": [
  {
   "cell_type": "markdown",
   "metadata": {},
   "source": [
    "# NumPy"
   ]
  },
  {
   "cell_type": "markdown",
   "metadata": {
    "collapsed": true
   },
   "source": [
    "The NumPy library provides support for arrays, matricies and mathematical functions to operate on them. We'll start with the basics and then cover a few more advanced topics."
   ]
  },
  {
   "cell_type": "markdown",
   "metadata": {},
   "source": [
    "## The N-dimensional array (ndarray) and array basics"
   ]
  },
  {
   "cell_type": "markdown",
   "metadata": {},
   "source": [
    "The core of NumPy is the n-dimensional array (ndarray). Although it may seem similar to Python lists or the array.array class, there are some important differences. ndarrays ...\n",
    "\n",
    "+ are homogenous, all elements must be of the same type (unlike list)\n",
    "+ can be multidimensional (unlike array.array)\n",
    "+ have much more functionality\n",
    "\n",
    "We'll dive in with an example. The arange function is analogous to Python's range function, while reshape does exactly what you would expect and reshapes an array into a specified shape.\n",
    "\n",
    "+ ndarray.ndim: number of dimensions or rank\n",
    "+ ndarray.shape: tuple containing the dimensions of the array\n",
    "+ ndarray.dtype: data type of elements\n",
    "+ ndarray.size: total number of elements (product of dimensions)\n",
    "\n",
    "### Library Dependancies\n",
    "Need numpy, operator, matplotlib, collections. The operator and collections modules come pre-installed in the Python Standard Library. Install the rest using pip: ```pip install numpy```, ```pip install matplotlib```."
   ]
  },
  {
   "cell_type": "code",
   "execution_count": 137,
   "metadata": {},
   "outputs": [],
   "source": [
    "import numpy as np\n",
    "import pandas as pd\n",
    "from csv import reader\n",
    "import matplotlib.pyplot as plt\n"
   ]
  },
  {
   "cell_type": "code",
   "execution_count": 138,
   "metadata": {},
   "outputs": [
    {
     "data": {
      "image/png": "[encoded data removed]",
      "text/plain": [
       "<Figure size 432x288 with 1 Axes>"
      ]
     },
     "metadata": {
      "needs_background": "light"
     },
     "output_type": "display_data"
    },
    {
     "data": {
      "image/png": "[encoded data removed]",
      "text/plain": [
       "<Figure size 432x288 with 1 Axes>"
      ]
     },
     "metadata": {
      "needs_background": "light"
     },
     "output_type": "display_data"
    },
    {
     "name": "stdout",
     "output_type": "stream",
     "text": [
      "This is the DF ______ \n",
      "     eruptions   waiting\n",
      "1     0.705882  0.822917\n",
      "2     0.352941  0.562500\n",
      "3     0.653529  0.770833\n",
      "4     0.447647  0.645833\n",
      "5     0.888824  0.885417\n",
      "..         ...       ...\n",
      "268   0.807255  0.843750\n",
      "269   0.421569  0.479167\n",
      "270   0.866078  0.937500\n",
      "271   0.356275  0.479167\n",
      "272   0.875882  0.770833\n",
      "\n",
      "[272 rows x 2 columns]\n",
      "___________ \n",
      "This is the Point ______ \n",
      "eruptions    0.885686\n",
      "waiting      0.833333\n",
      "Name: 88, dtype: float64\n",
      "0.8856862745098041\n",
      "0.8333333333333334\n",
      "___________ \n"
     ]
    },
    {
     "data": {
      "text/html": [
       "<div>\n",
       "<style scoped>\n",
       "    .dataframe tbody tr th:only-of-type {\n",
       "        vertical-align: middle;\n",
       "    }\n",
       "\n",
       "    .dataframe tbody tr th {\n",
       "        vertical-align: top;\n",
       "    }\n",
       "\n",
       "    .dataframe thead th {\n",
       "        text-align: right;\n",
       "    }\n",
       "</style>\n",
       "<table border=\"1\" class=\"dataframe\">\n",
       "  <thead>\n",
       "    <tr style=\"text-align: right;\">\n",
       "      <th></th>\n",
       "      <th>eruptions</th>\n",
       "      <th>waiting</th>\n",
       "    </tr>\n",
       "  </thead>\n",
       "  <tbody>\n",
       "    <tr>\n",
       "      <th>1</th>\n",
       "      <td>0.705882</td>\n",
       "      <td>0.822917</td>\n",
       "    </tr>\n",
       "    <tr>\n",
       "      <th>2</th>\n",
       "      <td>0.352941</td>\n",
       "      <td>0.562500</td>\n",
       "    </tr>\n",
       "    <tr>\n",
       "      <th>3</th>\n",
       "      <td>0.653529</td>\n",
       "      <td>0.770833</td>\n",
       "    </tr>\n",
       "    <tr>\n",
       "      <th>4</th>\n",
       "      <td>0.447647</td>\n",
       "      <td>0.645833</td>\n",
       "    </tr>\n",
       "    <tr>\n",
       "      <th>5</th>\n",
       "      <td>0.888824</td>\n",
       "      <td>0.885417</td>\n",
       "    </tr>\n",
       "    <tr>\n",
       "      <th>...</th>\n",
       "      <td>...</td>\n",
       "      <td>...</td>\n",
       "    </tr>\n",
       "    <tr>\n",
       "      <th>268</th>\n",
       "      <td>0.807255</td>\n",
       "      <td>0.843750</td>\n",
       "    </tr>\n",
       "    <tr>\n",
       "      <th>269</th>\n",
       "      <td>0.421569</td>\n",
       "      <td>0.479167</td>\n",
       "    </tr>\n",
       "    <tr>\n",
       "      <th>270</th>\n",
       "      <td>0.866078</td>\n",
       "      <td>0.937500</td>\n",
       "    </tr>\n",
       "    <tr>\n",
       "      <th>271</th>\n",
       "      <td>0.356275</td>\n",
       "      <td>0.479167</td>\n",
       "    </tr>\n",
       "    <tr>\n",
       "      <th>272</th>\n",
       "      <td>0.875882</td>\n",
       "      <td>0.770833</td>\n",
       "    </tr>\n",
       "  </tbody>\n",
       "</table>\n",
       "<p>272 rows × 2 columns</p>\n",
       "</div>"
      ],
      "text/plain": [
       "     eruptions   waiting\n",
       "1     0.705882  0.822917\n",
       "2     0.352941  0.562500\n",
       "3     0.653529  0.770833\n",
       "4     0.447647  0.645833\n",
       "5     0.888824  0.885417\n",
       "..         ...       ...\n",
       "268   0.807255  0.843750\n",
       "269   0.421569  0.479167\n",
       "270   0.866078  0.937500\n",
       "271   0.356275  0.479167\n",
       "272   0.875882  0.770833\n",
       "\n",
       "[272 rows x 2 columns]"
      ]
     },
     "execution_count": 138,
     "metadata": {},
     "output_type": "execute_result"
    }
   ],
   "source": [
    "from cmath import sqrt\n",
    "from math import dist, exp\n",
    "\n",
    "df = pd.read_csv('geyserData.csv') # Read in data as dataframe\n",
    "df = df.reset_index(drop=True) # Remove the index from the file\n",
    "df['class'] = 1 # Assign all points to class 1\n",
    "df['eruptions'] = df['eruptions'] / max(df['eruptions']) # Normalize eruptions\n",
    "df['waiting'] = df['waiting'] / max(df['waiting']) # Normalize waiting\n",
    "\n",
    "plt.title('Scatter plot of the Distribution of data')   #\n",
    "plt.scatter(df['eruptions'],df['waiting'])              # Visualizing the distribution\n",
    "plt.show()         \n",
    "\n",
    "df = pd.read_csv (r'/Users/jakobtolstrup/Desktop/Areas/SD/Data Mining/Exercises 5/k-means-clustering/geyserData.csv', delimiter=',')\n",
    "\n",
    "with open('/Users/jakobtolstrup/Desktop/Areas/SD/Data Mining/Exercises 5/k-means-clustering/geyserData.csv', 'r') as read_obj:\n",
    "    # pass the file object to reader() to get the reader object\n",
    "    csv_reader = reader(read_obj)\n",
    "    # Get all rows of csv from csv_reader object as list of tuples\n",
    "    list_of_tuples = list(map(tuple, csv_reader))\n",
    "    # display all rows of csv\n",
    "    #print(\"list_of_tuples \", list_of_tuples)\n",
    "\n",
    "\n",
    "dfm1 = df[\"eruptions\"].mean()\n",
    "dfm2 = df[\"waiting\"].mean()\n",
    "\n",
    "dfsd1 = df[\"eruptions\"].std()\n",
    "dfsd2 = df[\"waiting\"].std()\n",
    "\n",
    "# print(\"dfsd1 \", dfsd1)\n",
    "# print(\"dfsd2 \", dfsd2)\n",
    "\n",
    "\n",
    "df['eruptions'] = df['eruptions'] / max(df['eruptions']) # Normalize eruptions\n",
    "df['waiting'] = df['waiting'] / max(df['waiting']) # Normalize waiting\n",
    "\n",
    "plt.title('Scatter plot of the Distribution of data')   #\n",
    "plt.scatter(df['eruptions'],df['waiting'])              # Visualizing the distribution\n",
    "plt.show()        \n",
    "\n",
    "#STEP 1: Select the number of clusters we want\n",
    "k = 2\n",
    "\n",
    "#4\n",
    "clusterCentres = [[-1,-1], [1,1]]\n",
    "\n",
    "#5\n",
    "# create an list dp and populate it with 0 for each row of df\n",
    "clusterIds = []\n",
    "\n",
    "# Not sure what this is doing\n",
    "for i in range(len(df)):\n",
    "    clusterIds.append(0)\n",
    "\n",
    "\n",
    "#a - Track how many points move each iteration so we know when to stop\n",
    "# Intialize the means by randomly taking two points from the dataframe. Hint: check the function 'random.randint'\n",
    "# return two pandas dataframes (or pandas series) with mean1 and mean2\n",
    "\n",
    "#STEP 2: Randomly select k data points. These will be the initial clusters\n",
    "def initializeMeans(df):\n",
    "    x = df.sample(2) # Here we pick two random points consisting of x and y coordinate\n",
    "    cluster1 = x.iloc[0] # This gives me the specific point of x\n",
    "    cluster2 = x.iloc[1]\n",
    "\n",
    "    return cluster1, cluster1\n",
    "\n",
    "initializeMeans(df)\n",
    "\n",
    "\n",
    "def euclideanDist(df,pointIDX,mean1,mean2):\n",
    "\n",
    "    # What we basically want to do, is to take the dataframe, take some point, and then compare the point to the two means that we also take.\n",
    "    # We want to see which is closest to them. The one that is closest is assigned 2 and the one that is farest away is assigned 1\n",
    "    # Return the dataframe where the class of the \n",
    "\n",
    "    \"\"\"\n",
    "    Take the index of the point in the dataframe you want to calculate the \n",
    "    distance from and calculate the euclidean distance to both means.\n",
    "    \n",
    "    return a pandas dataframe (or pandas series) with the closest mean assigned to column 'class' given the pointIDX\n",
    "    \"\"\"\n",
    "\n",
    "    # We seperate the values from our inputs into seperate points\n",
    "    mp1, mp2 = mean1\n",
    "    mq1, mq2 = mean2\n",
    "    pp1, pp2 = pointIDX\n",
    "\n",
    "    # We calculate the distance between the points and the\n",
    "    dist1 = sqrt((mp1-pp1)**2 + (mp2+pp2)**2).real\n",
    "    dist2 = sqrt((mq1-pp1)**2 + (mq2+pp2)**2).real\n",
    "    \n",
    "    #Here we get the index of our point\n",
    "\n",
    "    print(\"This is the DF ______ \")\n",
    "    print(df)\n",
    "    print(\"___________ \")\n",
    "\n",
    "    print(\"This is the Point ______ \")\n",
    "    print(pointIDX)\n",
    "    print(pointIDX.eruptions)\n",
    "    print(pointIDX.waiting)\n",
    "    print(\"___________ \")\n",
    "\n",
    "    \n",
    "    # eruptions =  xxxx \n",
    "\n",
    "\n",
    "    # print(\"df.index[pointIDX]\") \n",
    "    # df.index[pointIDX]\n",
    "\n",
    "    #find the index of the point in the data\n",
    "    \n",
    "\n",
    "    # # Which cluster is closest to point\n",
    "    # if(dist1 > dist2):\n",
    "    #     df.iat[point, 2] = 1\n",
    "    # else:\n",
    "    #     df.iat[point, 2] = 2\n",
    "\n",
    "    return df # here we return the same dataframe\n",
    "\n",
    "testPoint = df.sample(1).iloc[0] #Here we initialize a testpoint to test the function above\n",
    "m1, m2 = initializeMeans(df)\n",
    "\n",
    "\n",
    "\n",
    "# print(\"m1 \", m1)\n",
    "# print(\"m2 \", m2)\n",
    "\n",
    "euclideanDist(df,testPoint, m1, m2)\n",
    "\n",
    "    # Next we update means. \n",
    "\n",
    "    \n",
    "    # Find all the points for the first and second class and update the means\n",
    "\n",
    "\n",
    "    # Then the algo itself\n",
    "    # It matters how many iterations we have. \n",
    "\n",
    "    # Step 1: Itereate random means\n",
    "    # once we've updated mean we compare the cluster to the mean once more\n",
    "\n",
    "    # \"\"\"\n",
    "    # Take the index of the point in the dataframe you want to calculate the \n",
    "    # distance from and calculate the euclidean distance to both means.\n",
    "    \n",
    "    # return a pandas dataframe (or pandas series) with the closest mean assigned to column 'class' given the pointIDX\n",
    "    # \"\"\""
   ]
  },
  {
   "cell_type": "markdown",
   "metadata": {},
   "source": []
  },
  {
   "cell_type": "code",
   "execution_count": 160,
   "metadata": {},
   "outputs": [
    {
     "data": {
      "text/plain": [
       "88"
      ]
     },
     "execution_count": 160,
     "metadata": {},
     "output_type": "execute_result"
    }
   ],
   "source": [
    "e = testPoint.eruptions\n",
    "w = testPoint.waiting\n",
    "\n",
    "r = df[(df.eruptions == e) & (df.waiting == w)]\n",
    "i = r\n",
    "i.index[0]\n"
   ]
  }
 ],
 "metadata": {
  "kernelspec": {
   "display_name": "Python 3.9.12 ('base')",
   "language": "python",
   "name": "python3"
  },
  "language_info": {
   "codemirror_mode": {
    "name": "ipython",
    "version": 3
   },
   "file_extension": ".py",
   "mimetype": "text/x-python",
   "name": "python",
   "nbconvert_exporter": "python",
   "pygments_lexer": "ipython3",
   "version": "3.9.12"
  },
  "vscode": {
   "interpreter": {
    "hash": "7048a5d75593413cc54dc24206831079ac8905ffddb319c4eafd454be0ec5d5b"
   }
  }
 },
 "nbformat": 4,
 "nbformat_minor": 2
}
